{
 "cells": [
  {
   "cell_type": "code",
   "execution_count": 1,
   "metadata": {},
   "outputs": [
    {
     "name": "stdout",
     "output_type": "stream",
     "text": [
      "2.0000000000000013\n"
     ]
    }
   ],
   "source": [
    "#exo 1\n",
    "\n",
    "def racine(b,n,e):\n",
    "    r = e\n",
    "    while r**n < b:\n",
    "        r+=e\n",
    "    print(r)\n",
    "\n",
    "racine(16,4,0.01)"
   ]
  },
  {
   "cell_type": "code",
   "execution_count": 7,
   "metadata": {},
   "outputs": [
    {
     "name": "stdout",
     "output_type": "stream",
     "text": [
      "Solutions de  4 x^2 + 4 x + 1 = 0\n",
      "En -0.5 : 0.0\n",
      "Une solution : None\n",
      "None\n"
     ]
    }
   ],
   "source": [
    "#Exo 2\n",
    "\n",
    "from math import sqrt\n",
    "\n",
    "def polynome(a, b, c, x):\n",
    "    print (\"En\", x, \":\", a * x * x + b * x + c)\n",
    "\n",
    "def racine(a, b, c):\n",
    "    print(\"Solutions de \", a, \"x^2 +\", b, \"x +\", c, \"= 0\")\n",
    "    if a == 0:\n",
    "        if b == 0:\n",
    "            if c == 0:\n",
    "                print (\"Tout r ́eel est solution\")\n",
    "            else :\n",
    "                print (\"Aucune solution\")\n",
    "        else :\n",
    "            x = (-c * 1.0) / b\n",
    "            print (\"Une solution :\", polynome(a, b, c, x))\n",
    "    else :\n",
    "        d = b * b - 4 * a * c\n",
    "    if(d == 0): \n",
    "        x = -b / (2.0 * a) \n",
    "        print (\"Une solution :\", polynome(a, b, c, x) )\n",
    "    elif(d > 0):\n",
    "        r = sqrt(d) \n",
    "        x1 = (-b - r) / (2.0 * a) \n",
    "        x2 = (-b + r) / (2.0 * a)\n",
    "        print (\"Deux solutions :\", x1, \"et\", x2)\n",
    "        polynome(a, b, c, x1) \n",
    "        polynome(a, b, c, x2)\n",
    "    else :\n",
    "        print (\"Aucune solution\")\n",
    "\n",
    "print(racine(4,4,1))"
   ]
  },
  {
   "cell_type": "code",
   "execution_count": 67,
   "metadata": {},
   "outputs": [
    {
     "data": {
      "image/png": "[encoded data removed]",
      "text/latex": [
       "$$\\Re{\\left(\\frac{\\left(\\sqrt{3} I + 1\\right)^{20}}{I + 1}\\right)}$$"
      ],
      "text/plain": [
       "  ⎛          20⎞\n",
       "  ⎜(√3⋅I + 1)  ⎟\n",
       "re⎜────────────⎟\n",
       "  ⎝   I + 1    ⎠"
      ]
     },
     "execution_count": 67,
     "metadata": {},
     "output_type": "execute_result"
    }
   ],
   "source": [
    "#Exo 3 :\n",
    "\n",
    "\n",
    "from sympy.solvers import solve\n",
    "from sympy import Symbol\n",
    "x = Symbol('x')\n",
    "#I = Symbol('I')\n",
    "solve(4*x**2 + 1*x -16, x)\n",
    "\n",
    "\n",
    "\n",
    "\n",
    "\n",
    "\n"
   ]
  },
  {
   "cell_type": "code",
   "execution_count": null,
   "metadata": {},
   "outputs": [],
   "source": []
  },
  {
   "cell_type": "code",
   "execution_count": 68,
   "metadata": {},
   "outputs": [
    {
     "data": {
      "image/png": "[encoded data removed]",
      "text/latex": [
       "$$\\left [ - \\frac{2}{3} - \\frac{1}{3 \\left(- \\frac{1}{2} - \\frac{\\sqrt{3} i}{2}\\right) \\sqrt[3]{\\frac{3 \\sqrt{69}}{2} + \\frac{25}{2}}} - \\frac{1}{3} \\left(- \\frac{1}{2} - \\frac{\\sqrt{3} i}{2}\\right) \\sqrt[3]{\\frac{3 \\sqrt{69}}{2} + \\frac{25}{2}}, \\quad - \\frac{2}{3} - \\frac{1}{3} \\left(- \\frac{1}{2} + \\frac{\\sqrt{3} i}{2}\\right) \\sqrt[3]{\\frac{3 \\sqrt{69}}{2} + \\frac{25}{2}} - \\frac{1}{3 \\left(- \\frac{1}{2} + \\frac{\\sqrt{3} i}{2}\\right) \\sqrt[3]{\\frac{3 \\sqrt{69}}{2} + \\frac{25}{2}}}, \\quad - \\frac{1}{3} \\sqrt[3]{\\frac{3 \\sqrt{69}}{2} + \\frac{25}{2}} - \\frac{2}{3} - \\frac{1}{3 \\sqrt[3]{\\frac{3 \\sqrt{69}}{2} + \\frac{25}{2}}}\\right ]$$"
      ],
      "text/plain": [
       "⎡                                                         ____________        \n",
       "⎢                                        ⎛  1   √3⋅ⅈ⎞    ╱ 3⋅√69   25         \n",
       "⎢                                        ⎜- ─ - ────⎟⋅3 ╱  ───── + ──         \n",
       "⎢  2                  1                  ⎝  2    2  ⎠ ╲╱     2     2      2   \n",
       "⎢- ─ - ─────────────────────────────── - ─────────────────────────────, - ─ - \n",
       "⎢  3                      ____________                 3                  3   \n",
       "⎢        ⎛  1   √3⋅ⅈ⎞    ╱ 3⋅√69   25                                         \n",
       "⎢      3⋅⎜- ─ - ────⎟⋅3 ╱  ───── + ──                                         \n",
       "⎣        ⎝  2    2  ⎠ ╲╱     2     2                                          \n",
       "\n",
       "                 ____________                                          _______\n",
       "⎛  1   √3⋅ⅈ⎞    ╱ 3⋅√69   25                                          ╱ 3⋅√69 \n",
       "⎜- ─ + ────⎟⋅3 ╱  ───── + ──                                       3 ╱  ───── \n",
       "⎝  2    2  ⎠ ╲╱     2     2                    1                   ╲╱     2   \n",
       "───────────────────────────── - ───────────────────────────────, - ───────────\n",
       "              3                                    ____________           3   \n",
       "                                  ⎛  1   √3⋅ⅈ⎞    ╱ 3⋅√69   25                \n",
       "                                3⋅⎜- ─ + ────⎟⋅3 ╱  ───── + ──                \n",
       "                                  ⎝  2    2  ⎠ ╲╱     2     2                 \n",
       "\n",
       "_____                         ⎤\n",
       "  25                          ⎥\n",
       "+ ──                          ⎥\n",
       "  2     2           1         ⎥\n",
       "───── - ─ - ──────────────────⎥\n",
       "        3         ____________⎥\n",
       "                 ╱ 3⋅√69   25 ⎥\n",
       "            3⋅3 ╱  ───── + ── ⎥\n",
       "              ╲╱     2     2  ⎦"
      ]
     },
     "execution_count": 68,
     "metadata": {},
     "output_type": "execute_result"
    }
   ],
   "source": [
    "solve(x**3 + 2*x**2 + 1*x + 1, x)"
   ]
  },
  {
   "cell_type": "code",
   "execution_count": 69,
   "metadata": {},
   "outputs": [
    {
     "data": {
      "image/png": "[encoded data removed]",
      "text/latex": [
       "$$1.77245385090552$$"
      ],
      "text/plain": [
       "1.77245385090552"
      ]
     },
     "execution_count": 69,
     "metadata": {},
     "output_type": "execute_result"
    }
   ],
   "source": [
    "(pi**(0.5)).evalf()\n"
   ]
  },
  {
   "cell_type": "code",
   "execution_count": 70,
   "metadata": {},
   "outputs": [
    {
     "data": {
      "image/png": "[encoded data removed]",
      "text/latex": [
       "$$\\Im{\\left(\\frac{\\left(\\sqrt{3} I + 1\\right)^{20}}{I + 1}\\right)}$$"
      ],
      "text/plain": [
       "  ⎛          20⎞\n",
       "  ⎜(√3⋅I + 1)  ⎟\n",
       "im⎜────────────⎟\n",
       "  ⎝   I + 1    ⎠"
      ]
     },
     "execution_count": 70,
     "metadata": {},
     "output_type": "execute_result"
    }
   ],
   "source": [
    "im((((1+I*sqrt(3))**20) / (1+I)))"
   ]
  },
  {
   "cell_type": "code",
   "execution_count": 84,
   "metadata": {},
   "outputs": [
    {
     "data": {
      "image/png": "[encoded data removed]",
      "text/latex": [
       "$$x x^{x^{x^{x}}} \\left(x^{x^{x}} \\left(x^{x} \\left(\\log{\\left (x \\right )} + 1\\right) \\log{\\left (x \\right )} + \\frac{x^{x}}{x}\\right) \\log{\\left (x \\right )} + \\frac{x^{x^{x}}}{x}\\right) e^{x^{x^{x^{x}}}} + e^{x^{x^{x^{x}}}}$$"
      ],
      "text/plain": [
       "                                                                 ⎛ ⎛ ⎛ x⎞⎞⎞   \n",
       "   ⎛ ⎛ x⎞⎞ ⎛                                              ⎛ x⎞⎞  ⎜ ⎜ ⎝x ⎠⎟⎟   \n",
       "   ⎜ ⎝x ⎠⎟ ⎜ ⎛ x⎞ ⎛                          x⎞           ⎝x ⎠⎟  ⎜ ⎝x    ⎠⎟   \n",
       "   ⎝x    ⎠ ⎜ ⎝x ⎠ ⎜ x                       x ⎟          x    ⎟  ⎝x       ⎠   \n",
       "x⋅x       ⋅⎜x    ⋅⎜x ⋅(log(x) + 1)⋅log(x) + ──⎟⋅log(x) + ─────⎟⋅ℯ           + \n",
       "           ⎝      ⎝                         x ⎠            x  ⎠               \n",
       "\n",
       " ⎛ ⎛ ⎛ x⎞⎞⎞\n",
       " ⎜ ⎜ ⎝x ⎠⎟⎟\n",
       " ⎜ ⎝x    ⎠⎟\n",
       " ⎝x       ⎠\n",
       "ℯ          \n",
       "           "
      ]
     },
     "execution_count": 84,
     "metadata": {},
     "output_type": "execute_result"
    }
   ],
   "source": [
    "diff(x*exp(x**x**x**x),x)"
   ]
  },
  {
   "cell_type": "code",
   "execution_count": 77,
   "metadata": {},
   "outputs": [
    {
     "data": {
      "image/png": "[encoded data removed]",
      "text/latex": [
       "$$1$$"
      ],
      "text/plain": [
       "1"
      ]
     },
     "execution_count": 77,
     "metadata": {},
     "output_type": "execute_result"
    }
   ],
   "source": [
    " limit(sin(x)/x, x, 0)"
   ]
  },
  {
   "cell_type": "code",
   "execution_count": 78,
   "metadata": {},
   "outputs": [
    {
     "data": {
      "image/png": "[encoded data removed]",
      "text/latex": [
       "$$\\langle -1, 1\\rangle$$"
      ],
      "text/plain": [
       "<-1, 1>"
      ]
     },
     "execution_count": 78,
     "metadata": {},
     "output_type": "execute_result"
    }
   ],
   "source": [
    " limit(sin(1/x), x, 0)"
   ]
  },
  {
   "cell_type": "code",
   "execution_count": 92,
   "metadata": {},
   "outputs": [
    {
     "name": "stdout",
     "output_type": "stream",
     "text": [
      "42\n"
     ]
    }
   ],
   "source": [
    "test = str(factorial(123))\n",
    "print (test.count('0'))"
   ]
  },
  {
   "cell_type": "code",
   "execution_count": null,
   "metadata": {},
   "outputs": [],
   "source": []
  }
 ],
 "metadata": {
  "kernelspec": {
   "display_name": "Python 3",
   "language": "python",
   "name": "python3"
  },
  "language_info": {
   "codemirror_mode": {
    "name": "ipython",
    "version": 3
   },
   "file_extension": ".py",
   "mimetype": "text/x-python",
   "name": "python",
   "nbconvert_exporter": "python",
   "pygments_lexer": "ipython3",
   "version": "3.7.0"
  }
 },
 "nbformat": 4,
 "nbformat_minor": 2
}
